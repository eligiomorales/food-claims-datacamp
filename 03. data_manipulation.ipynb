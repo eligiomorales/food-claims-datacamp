{
 "cells": [
  {
   "cell_type": "markdown",
   "id": "46147c34-5434-426a-87cb-7a80125119c6",
   "metadata": {},
   "source": [
    "### DATA MANIPULATION"
   ]
  },
  {
   "cell_type": "markdown",
   "id": "583aa778-6274-414c-b205-8350479d86c2",
   "metadata": {},
   "source": [
    "1. se modificaron los titulos del archivo .csv para que se matcheara con los titulos de la tabla \"claims\" en la base de datos \"xxx\""
   ]
  },
  {
   "cell_type": "markdown",
   "id": "23f8e263-359f-47b3-a75f-9e8a794f06c3",
   "metadata": {},
   "source": [
    "el campo de claim_amount fue creado como varchar debido a que "
   ]
  }
 ],
 "metadata": {
  "kernelspec": {
   "display_name": "Python 3 (ipykernel)",
   "language": "python",
   "name": "python3"
  },
  "language_info": {
   "codemirror_mode": {
    "name": "ipython",
    "version": 3
   },
   "file_extension": ".py",
   "mimetype": "text/x-python",
   "name": "python",
   "nbconvert_exporter": "python",
   "pygments_lexer": "ipython3",
   "version": "3.10.6"
  }
 },
 "nbformat": 4,
 "nbformat_minor": 5
}
