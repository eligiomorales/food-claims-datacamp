{
 "cells": [
  {
   "cell_type": "markdown",
   "id": "344e8944-a8d3-4053-9400-911cd532bd6f",
   "metadata": {},
   "source": [
    "### 1. SQL extension loaded"
   ]
  },
  {
   "cell_type": "code",
   "execution_count": 1,
   "id": "cbbb9a34-6d57-4768-8122-84cb76680b8a",
   "metadata": {},
   "outputs": [],
   "source": [
    "%load_ext sql"
   ]
  },
  {
   "cell_type": "code",
   "execution_count": null,
   "id": "a5df06bb-02bc-44fe-acd7-84b4309e2646",
   "metadata": {},
   "outputs": [],
   "source": [
    "%env DATABASE_URL=postgresql://***@localhost/food_claims_datacamp_cert"
   ]
  },
  {
   "cell_type": "code",
   "execution_count": 3,
   "id": "03a91869-3a31-49e0-95c7-0f9fc9ed512b",
   "metadata": {},
   "outputs": [
    {
     "name": "stdout",
     "output_type": "stream",
     "text": [
      "1 rows affected.\n"
     ]
    },
    {
     "data": {
      "text/html": [
       "<table>\n",
       "    <tr>\n",
       "        <th>current_date</th>\n",
       "    </tr>\n",
       "    <tr>\n",
       "        <td>2022-10-31</td>\n",
       "    </tr>\n",
       "</table>"
      ],
      "text/plain": [
       "[(datetime.date(2022, 10, 31),)]"
      ]
     },
     "execution_count": 3,
     "metadata": {},
     "output_type": "execute_result"
    }
   ],
   "source": [
    "%sql SELECT current_date;"
   ]
  },
  {
   "cell_type": "markdown",
   "id": "3d6164d5-98cc-41f5-8e92-922b04364037",
   "metadata": {},
   "source": [
    "### 2.Exploration"
   ]
  },
  {
   "cell_type": "code",
   "execution_count": null,
   "id": "822947f6-5a84-4f4e-bb12-7ffeb0ac6889",
   "metadata": {},
   "outputs": [],
   "source": [
    "## explorar la variable numerica de interes \"time_to_close\"\n",
    "\n",
    "%sql SELECT 'total', sum(time_to_close) as quantity FROM claims UNION SELECT 'average', round(avg(time_to_close),2) FROM claims UNION SELECT 'min', min(time_to_close)FROM claims UNION SELECT 'max', max(time_to_close) FROM claims UNION SELECT 'median', percentile_disc(0.5) WITHIN GROUP (ORDER BY time_to_close)FROM claims UNION SELECT 'range', max(time_to_close) - min(time_to_close) FROM claims ORDER BY 1;\n",
    "\n",
    "## se encuentra un valor incoherente respecto a lo esperable. Por lo que se procede a eliminar. "
   ]
  },
  {
   "cell_type": "code",
   "execution_count": null,
   "id": "c1a44757-3c3c-45a6-878b-8e64ebed0fa7",
   "metadata": {
    "tags": []
   },
   "outputs": [],
   "source": [
    "%sql DELETE FROM claims where time_to_close < 0\n",
    "\n",
    "# solo se encuentra un valor que cumple la condicion, por lo que a partir de ahora, se tiene 97 rows. "
   ]
  }
 ],
 "metadata": {
  "kernelspec": {
   "display_name": "Python 3 (ipykernel)",
   "language": "python",
   "name": "python3"
  },
  "language_info": {
   "codemirror_mode": {
    "name": "ipython",
    "version": 3
   },
   "file_extension": ".py",
   "mimetype": "text/x-python",
   "name": "python",
   "nbconvert_exporter": "python",
   "pygments_lexer": "ipython3",
   "version": "3.10.6"
  }
 },
 "nbformat": 4,
 "nbformat_minor": 5
}
